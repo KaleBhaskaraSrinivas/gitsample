{
    "cells": [
        {
            "cell_type": "markdown",
            "metadata": {},
            "source": "## Description\n"
        },
        {
            "cell_type": "code",
            "execution_count": 8,
            "metadata": {},
            "outputs": [
                {
                    "data": {
                        "text/html": "<div>\n<style scoped>\n    .dataframe tbody tr th:only-of-type {\n        vertical-align: middle;\n    }\n\n    .dataframe tbody tr th {\n        vertical-align: top;\n    }\n\n    .dataframe thead th {\n        text-align: right;\n    }\n</style>\n<table border=\"1\" class=\"dataframe\">\n  <thead>\n    <tr style=\"text-align: right;\">\n      <th></th>\n      <th>state</th>\n      <th>location</th>\n      <th>address</th>\n      <th>latitude</th>\n      <th>longitude</th>\n    </tr>\n  </thead>\n  <tbody>\n    <tr>\n      <th>0</th>\n      <td>Alabama</td>\n      <td>Auburn</td>\n      <td>346 W Magnolia Ave Auburn, AL 36832 US</td>\n      <td>32.606813</td>\n      <td>-85.487328</td>\n    </tr>\n    <tr>\n      <th>1</th>\n      <td>Alabama</td>\n      <td>Birmingham</td>\n      <td>300 20th St S Birmingham, AL 35233 US</td>\n      <td>33.509721</td>\n      <td>-86.802756</td>\n    </tr>\n    <tr>\n      <th>2</th>\n      <td>Alabama</td>\n      <td>Birmingham</td>\n      <td>3220 Morrow Rd Birmingham, AL 35235 US</td>\n      <td>33.595581</td>\n      <td>-86.647437</td>\n    </tr>\n    <tr>\n      <th>3</th>\n      <td>Alabama</td>\n      <td>Birmingham</td>\n      <td>4719 Highway 280 Birmingham, AL 35242 US</td>\n      <td>33.422582</td>\n      <td>-86.698279</td>\n    </tr>\n    <tr>\n      <th>4</th>\n      <td>Alabama</td>\n      <td>Cullman</td>\n      <td>1821 Cherokee Ave SW Cullman, AL 35055 US</td>\n      <td>34.154134</td>\n      <td>-86.841220</td>\n    </tr>\n  </tbody>\n</table>\n</div>",
                        "text/plain": "     state    location                                    address   latitude  \\\n0  Alabama      Auburn     346 W Magnolia Ave Auburn, AL 36832 US  32.606813   \n1  Alabama  Birmingham      300 20th St S Birmingham, AL 35233 US  33.509721   \n2  Alabama  Birmingham     3220 Morrow Rd Birmingham, AL 35235 US  33.595581   \n3  Alabama  Birmingham   4719 Highway 280 Birmingham, AL 35242 US  33.422582   \n4  Alabama     Cullman  1821 Cherokee Ave SW Cullman, AL 35055 US  34.154134   \n\n   longitude  \n0 -85.487328  \n1 -86.802756  \n2 -86.647437  \n3 -86.698279  \n4 -86.841220  "
                    },
                    "execution_count": 8,
                    "metadata": {},
                    "output_type": "execute_result"
                }
            ],
            "source": "# The code was removed by Watson Studio for sharing."
        },
        {
            "cell_type": "code",
            "execution_count": null,
            "metadata": {},
            "outputs": [],
            "source": ""
        }
    ],
    "metadata": {
        "kernelspec": {
            "display_name": "Python 3.7",
            "language": "python",
            "name": "python3"
        },
        "language_info": {
            "codemirror_mode": {
                "name": "ipython",
                "version": 3
            },
            "file_extension": ".py",
            "mimetype": "text/x-python",
            "name": "python",
            "nbconvert_exporter": "python",
            "pygments_lexer": "ipython3",
            "version": "3.7.10"
        }
    },
    "nbformat": 4,
    "nbformat_minor": 1
}